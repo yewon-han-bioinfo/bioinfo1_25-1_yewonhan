{
 "cells": [
  {
   "cell_type": "code",
   "execution_count": null,
   "metadata": {},
   "outputs": [],
   "source": [
    "# bioinfo1 기말발표 YoA _ 한예원 2024-21904 \n",
    "\n",
    "# Workflow \n",
    "\n",
    "featureCount_res_raw.tsv  # Guided Mission 1 의 cnt.tsv\n",
    "\n",
    "TPM 계산, Log(CLIP enrichment), Log(RdenChange) 계산  (done)\n",
    "\n",
    "여기서 0 하나도 없는 열만 추출 (done)\n",
    "\n",
    "# 단, control values 다 남겨놓기 (통계처리에 필요))\n",
    "\n",
    "id 리스트 뽑아서 GO term 대응 \n",
    "\n",
    "BP만 뽑기\n",
    "\n",
    "BP GO-slim(mouse)로 대응시키기 \n",
    "\n",
    "# 통계처리 잘 생각하기 \n",
    "이게 각 BP 당\n",
    "\n",
    "하나의 BP = pathway (gene set)  __ 이 pathway가 유의미하게 증진되었는가? \n",
    "\n",
    "fisher or mHG 선택하기 (multiple test correction해야함)\n",
    "\n"
   ]
  },
  {
   "cell_type": "code",
   "execution_count": 3,
   "metadata": {},
   "outputs": [
    {
     "name": "stdout",
     "output_type": "stream",
     "text": [
      "✅ TPM 계산 완료! 'featureCount_res_w_TPM.tsvv' 파일이 생성되었습니다.\n"
     ]
    }
   ],
   "source": [
    "#calculate TPM \n",
    "\n",
    "import pandas as pd\n",
    "\n",
    "# 1. featureCounts 결과 불러오기\n",
    "df = pd.read_csv(\"/fast/yewon/colab-biolab/featureCount_res_raw.tsv\", sep=\"\\t\", comment='#')\n",
    "\n",
    "# 2. 유전자 길이 (bp → kb)\n",
    "df['Length_kb'] = df['Length'] / 1000\n",
    "\n",
    "# 3. count 열만 선택 (샘플 열) — 보통 7열부터 끝까지가 count\n",
    "count_cols = df.columns[6:-1]  # 'Length_kb' 앞까지만\n",
    "\n",
    "# 4. RPK 계산\n",
    "rpk = df[count_cols].div(df['Length_kb'], axis=0)\n",
    "\n",
    "# 5. 샘플별 scaling factor 계산 (RPK 합 / 1e6)\n",
    "scaling_factors = rpk.sum(axis=0) / 1e6\n",
    "\n",
    "# 6. TPM 계산\n",
    "tpm = rpk.div(scaling_factors, axis=1)\n",
    "\n",
    "# 7. Gene ID 열 추가하고 저장\n",
    "tpm.insert(0, 'Geneid', df['Geneid'])\n",
    "tpm.to_csv(\"/fast/yewon/colab-biolab/featureCount_res_w_TPM.tsv\", sep='\\t', index=False)\n",
    "\n",
    "print(\"✅ TPM 계산 완료! 'featureCount_res_w_TPM.tsvv' 파일이 생성되었습니다.\")\n"
   ]
  },
  {
   "cell_type": "code",
   "execution_count": 4,
   "metadata": {},
   "outputs": [
    {
     "name": "stdout",
     "output_type": "stream",
     "text": [
      "✅ 저장 완료: featureCount_res_TPM_ClipEnrich_RdenChange.tsv\n"
     ]
    }
   ],
   "source": [
    "# 기존 df는 tpm 계산된 상태\n",
    "df = tpm.copy()\n",
    "\n",
    "# 1. 새로운 지표 계산\n",
    "df['clip_enrichment'] = df['CLIP-35L33G.bam'] / df['RNA-control.bam']\n",
    "df['rden_change'] = (df['RPF-siLin28a.bam'] / df['RNA-siLin28a.bam']) / \\\n",
    "                    (df['RPF-siLuc.bam'] / df['RNA-siLuc.bam'])\n",
    "\n",
    "# 2. 필요한 열 중 하나라도 0이 있으면 제거\n",
    "required_cols = [\n",
    "    'CLIP-35L33G.bam', 'RNA-control.bam',\n",
    "    'RPF-siLin28a.bam', 'RNA-siLin28a.bam',\n",
    "    'RPF-siLuc.bam', 'RNA-siLuc.bam'\n",
    "]\n",
    "\n",
    "df_filtered = df[(df[required_cols] != 0).all(axis=1)]\n",
    "\n",
    "# 3. 저장\n",
    "df_filtered.to_csv(\"featureCount_res_TPM_ClipEnrich_RdenChange.tsv\", sep='\\t', index=False)\n",
    "\n",
    "print(\"✅ 저장 완료: featureCount_res_TPM_ClipEnrich_RdenChange.tsv\")\n"
   ]
  },
  {
   "cell_type": "code",
   "execution_count": 5,
   "metadata": {},
   "outputs": [
    {
     "data": {
      "text/html": [
       "<div>\n",
       "<style scoped>\n",
       "    .dataframe tbody tr th:only-of-type {\n",
       "        vertical-align: middle;\n",
       "    }\n",
       "\n",
       "    .dataframe tbody tr th {\n",
       "        vertical-align: top;\n",
       "    }\n",
       "\n",
       "    .dataframe thead th {\n",
       "        text-align: right;\n",
       "    }\n",
       "</style>\n",
       "<table border=\"1\" class=\"dataframe\">\n",
       "  <thead>\n",
       "    <tr style=\"text-align: right;\">\n",
       "      <th></th>\n",
       "      <th>Geneid</th>\n",
       "      <th>CLIP-35L33G.bam</th>\n",
       "      <th>RNA-control.bam</th>\n",
       "      <th>RNA-siLin28a.bam</th>\n",
       "      <th>RNA-siLuc.bam</th>\n",
       "      <th>RPF-siLin28a.bam</th>\n",
       "      <th>RPF-siLuc.bam</th>\n",
       "      <th>clip_enrichment</th>\n",
       "      <th>rden_change</th>\n",
       "    </tr>\n",
       "  </thead>\n",
       "  <tbody>\n",
       "    <tr>\n",
       "      <th>15</th>\n",
       "      <td>ENSMUSG00000102343.2</td>\n",
       "      <td>9.756596</td>\n",
       "      <td>11.878639</td>\n",
       "      <td>42.787984</td>\n",
       "      <td>40.466618</td>\n",
       "      <td>0.116285</td>\n",
       "      <td>0.208447</td>\n",
       "      <td>0.821356</td>\n",
       "      <td>0.527600</td>\n",
       "    </tr>\n",
       "    <tr>\n",
       "      <th>19</th>\n",
       "      <td>ENSMUSG00000025902.14</td>\n",
       "      <td>0.249740</td>\n",
       "      <td>0.109526</td>\n",
       "      <td>0.472667</td>\n",
       "      <td>0.368367</td>\n",
       "      <td>0.066477</td>\n",
       "      <td>0.089372</td>\n",
       "      <td>2.280183</td>\n",
       "      <td>0.579688</td>\n",
       "    </tr>\n",
       "    <tr>\n",
       "      <th>21</th>\n",
       "      <td>ENSMUSG00000102269.2</td>\n",
       "      <td>0.531265</td>\n",
       "      <td>12.756331</td>\n",
       "      <td>2.639414</td>\n",
       "      <td>1.292968</td>\n",
       "      <td>0.106060</td>\n",
       "      <td>0.427766</td>\n",
       "      <td>0.041647</td>\n",
       "      <td>0.121458</td>\n",
       "    </tr>\n",
       "    <tr>\n",
       "      <th>26</th>\n",
       "      <td>ENSMUSG00000098104.2</td>\n",
       "      <td>3.918488</td>\n",
       "      <td>22.399719</td>\n",
       "      <td>4.986799</td>\n",
       "      <td>3.587447</td>\n",
       "      <td>0.215801</td>\n",
       "      <td>0.676957</td>\n",
       "      <td>0.174935</td>\n",
       "      <td>0.229327</td>\n",
       "    </tr>\n",
       "    <tr>\n",
       "      <th>30</th>\n",
       "      <td>ENSMUSG00000103922.2</td>\n",
       "      <td>34.002534</td>\n",
       "      <td>46.447811</td>\n",
       "      <td>24.528506</td>\n",
       "      <td>32.887731</td>\n",
       "      <td>6.231771</td>\n",
       "      <td>9.973871</td>\n",
       "      <td>0.732059</td>\n",
       "      <td>0.837743</td>\n",
       "    </tr>\n",
       "  </tbody>\n",
       "</table>\n",
       "</div>"
      ],
      "text/plain": [
       "                   Geneid  CLIP-35L33G.bam  RNA-control.bam  RNA-siLin28a.bam  \\\n",
       "15   ENSMUSG00000102343.2         9.756596        11.878639         42.787984   \n",
       "19  ENSMUSG00000025902.14         0.249740         0.109526          0.472667   \n",
       "21   ENSMUSG00000102269.2         0.531265        12.756331          2.639414   \n",
       "26   ENSMUSG00000098104.2         3.918488        22.399719          4.986799   \n",
       "30   ENSMUSG00000103922.2        34.002534        46.447811         24.528506   \n",
       "\n",
       "    RNA-siLuc.bam  RPF-siLin28a.bam  RPF-siLuc.bam  clip_enrichment  \\\n",
       "15      40.466618          0.116285       0.208447         0.821356   \n",
       "19       0.368367          0.066477       0.089372         2.280183   \n",
       "21       1.292968          0.106060       0.427766         0.041647   \n",
       "26       3.587447          0.215801       0.676957         0.174935   \n",
       "30      32.887731          6.231771       9.973871         0.732059   \n",
       "\n",
       "    rden_change  \n",
       "15     0.527600  \n",
       "19     0.579688  \n",
       "21     0.121458  \n",
       "26     0.229327  \n",
       "30     0.837743  "
      ]
     },
     "execution_count": 5,
     "metadata": {},
     "output_type": "execute_result"
    }
   ],
   "source": [
    "df_filtered.head()"
   ]
  },
  {
   "cell_type": "code",
   "execution_count": 5,
   "metadata": {},
   "outputs": [],
   "source": [
    "# featureCount_res_TPM_ClipEnrich_RdenChange.tsv\n",
    "\n",
    "# ENS EMBL ID - to GO term \n",
    "\n",
    "data_df = pd.read_csv(\"featureCount_res_TPM_ClipEnrich_RdenChange.tsv\", sep=\"\\t\", comment='#')"
   ]
  },
  {
   "cell_type": "code",
   "execution_count": 6,
   "metadata": {},
   "outputs": [
    {
     "data": {
      "text/plain": [
       "16201"
      ]
     },
     "execution_count": 6,
     "metadata": {},
     "output_type": "execute_result"
    }
   ],
   "source": [
    "len(data_df)"
   ]
  },
  {
   "cell_type": "code",
   "execution_count": null,
   "metadata": {},
   "outputs": [],
   "source": [
    "# GO term mapping "
   ]
  },
  {
   "cell_type": "code",
   "execution_count": 8,
   "metadata": {},
   "outputs": [
    {
     "name": "stdout",
     "output_type": "stream",
     "text": [
      "Requirement already satisfied: gseapy in /home/yewon1/anaconda3/lib/python3.10/site-packages (1.1.9)\n",
      "Requirement already satisfied: networkx in /home/yewon1/.local/lib/python3.10/site-packages (3.1)\n",
      "Requirement already satisfied: scipy in /home/yewon1/anaconda3/lib/python3.10/site-packages (from gseapy) (1.14.1)\n",
      "Requirement already satisfied: numpy>=1.13.0 in /home/yewon1/.local/lib/python3.10/site-packages (from gseapy) (2.2.6)\n",
      "Requirement already satisfied: requests in /home/yewon1/anaconda3/lib/python3.10/site-packages (from gseapy) (2.32.3)\n",
      "Requirement already satisfied: pandas in /home/yewon1/.local/lib/python3.10/site-packages (from gseapy) (2.3.0)\n",
      "Requirement already satisfied: matplotlib>=2.2 in /home/yewon1/anaconda3/lib/python3.10/site-packages (from gseapy) (3.9.2)\n",
      "Requirement already satisfied: cycler>=0.10 in /home/yewon1/anaconda3/lib/python3.10/site-packages (from matplotlib>=2.2->gseapy) (0.12.1)\n",
      "Requirement already satisfied: packaging>=20.0 in /home/yewon1/anaconda3/lib/python3.10/site-packages (from matplotlib>=2.2->gseapy) (24.2)\n",
      "Requirement already satisfied: pyparsing>=2.3.1 in /home/yewon1/anaconda3/lib/python3.10/site-packages (from matplotlib>=2.2->gseapy) (3.2.0)\n",
      "Requirement already satisfied: kiwisolver>=1.3.1 in /home/yewon1/anaconda3/lib/python3.10/site-packages (from matplotlib>=2.2->gseapy) (1.4.7)\n",
      "Requirement already satisfied: python-dateutil>=2.7 in /home/yewon1/.local/lib/python3.10/site-packages (from matplotlib>=2.2->gseapy) (2.9.0.post0)\n",
      "Requirement already satisfied: fonttools>=4.22.0 in /home/yewon1/anaconda3/lib/python3.10/site-packages (from matplotlib>=2.2->gseapy) (4.55.0)\n",
      "Requirement already satisfied: contourpy>=1.0.1 in /home/yewon1/anaconda3/lib/python3.10/site-packages (from matplotlib>=2.2->gseapy) (1.3.1)\n",
      "Requirement already satisfied: pillow>=8 in /home/yewon1/anaconda3/lib/python3.10/site-packages (from matplotlib>=2.2->gseapy) (11.1.0)\n",
      "Requirement already satisfied: tzdata>=2022.7 in /home/yewon1/.local/lib/python3.10/site-packages (from pandas->gseapy) (2023.3)\n",
      "Requirement already satisfied: pytz>=2020.1 in /home/yewon1/anaconda3/lib/python3.10/site-packages (from pandas->gseapy) (2024.2)\n",
      "Requirement already satisfied: urllib3<3,>=1.21.1 in /home/yewon1/anaconda3/lib/python3.10/site-packages (from requests->gseapy) (2.3.0)\n",
      "Requirement already satisfied: idna<4,>=2.5 in /home/yewon1/anaconda3/lib/python3.10/site-packages (from requests->gseapy) (3.10)\n",
      "Requirement already satisfied: certifi>=2017.4.17 in /home/yewon1/anaconda3/lib/python3.10/site-packages (from requests->gseapy) (2025.4.26)\n",
      "Requirement already satisfied: charset_normalizer<4,>=2 in /home/yewon1/anaconda3/lib/python3.10/site-packages (from requests->gseapy) (3.4.1)\n",
      "Requirement already satisfied: six>=1.5 in /home/yewon1/anaconda3/lib/python3.10/site-packages (from python-dateutil>=2.7->matplotlib>=2.2->gseapy) (1.17.0)\n"
     ]
    }
   ],
   "source": [
    "!pip install gseapy networkx"
   ]
  },
  {
   "cell_type": "code",
   "execution_count": 9,
   "metadata": {},
   "outputs": [],
   "source": [
    "import pandas as pd\n",
    "import numpy as np\n",
    "from matplotlib import pyplot as plt\n",
    "import gseapy as gp #1\n",
    "import networkx as nx"
   ]
  },
  {
   "cell_type": "code",
   "execution_count": 10,
   "metadata": {},
   "outputs": [],
   "source": [
    "import warnings\n",
    "warnings.filterwarnings('ignore')"
   ]
  },
  {
   "cell_type": "code",
   "execution_count": 33,
   "metadata": {},
   "outputs": [
    {
     "data": {
      "text/html": [
       "<div>\n",
       "<style scoped>\n",
       "    .dataframe tbody tr th:only-of-type {\n",
       "        vertical-align: middle;\n",
       "    }\n",
       "\n",
       "    .dataframe tbody tr th {\n",
       "        vertical-align: top;\n",
       "    }\n",
       "\n",
       "    .dataframe thead th {\n",
       "        text-align: right;\n",
       "    }\n",
       "</style>\n",
       "<table border=\"1\" class=\"dataframe\">\n",
       "  <thead>\n",
       "    <tr style=\"text-align: right;\">\n",
       "      <th></th>\n",
       "      <th>CLIP-35L33G.bam</th>\n",
       "      <th>RNA-control.bam</th>\n",
       "      <th>RNA-siLin28a.bam</th>\n",
       "      <th>RNA-siLuc.bam</th>\n",
       "      <th>RPF-siLin28a.bam</th>\n",
       "      <th>RPF-siLuc.bam</th>\n",
       "      <th>clip_enrichment</th>\n",
       "      <th>rden_change</th>\n",
       "    </tr>\n",
       "    <tr>\n",
       "      <th>Geneid</th>\n",
       "      <th></th>\n",
       "      <th></th>\n",
       "      <th></th>\n",
       "      <th></th>\n",
       "      <th></th>\n",
       "      <th></th>\n",
       "      <th></th>\n",
       "      <th></th>\n",
       "    </tr>\n",
       "  </thead>\n",
       "  <tbody>\n",
       "    <tr>\n",
       "      <th>ENSMUSG00000102343.2</th>\n",
       "      <td>9.756596</td>\n",
       "      <td>11.878639</td>\n",
       "      <td>42.787984</td>\n",
       "      <td>40.466618</td>\n",
       "      <td>0.116285</td>\n",
       "      <td>0.208447</td>\n",
       "      <td>0.821356</td>\n",
       "      <td>0.527600</td>\n",
       "    </tr>\n",
       "    <tr>\n",
       "      <th>ENSMUSG00000025902.14</th>\n",
       "      <td>0.249740</td>\n",
       "      <td>0.109526</td>\n",
       "      <td>0.472667</td>\n",
       "      <td>0.368367</td>\n",
       "      <td>0.066477</td>\n",
       "      <td>0.089372</td>\n",
       "      <td>2.280183</td>\n",
       "      <td>0.579688</td>\n",
       "    </tr>\n",
       "    <tr>\n",
       "      <th>ENSMUSG00000102269.2</th>\n",
       "      <td>0.531265</td>\n",
       "      <td>12.756331</td>\n",
       "      <td>2.639414</td>\n",
       "      <td>1.292968</td>\n",
       "      <td>0.106060</td>\n",
       "      <td>0.427766</td>\n",
       "      <td>0.041647</td>\n",
       "      <td>0.121458</td>\n",
       "    </tr>\n",
       "    <tr>\n",
       "      <th>ENSMUSG00000098104.2</th>\n",
       "      <td>3.918488</td>\n",
       "      <td>22.399719</td>\n",
       "      <td>4.986799</td>\n",
       "      <td>3.587447</td>\n",
       "      <td>0.215801</td>\n",
       "      <td>0.676957</td>\n",
       "      <td>0.174935</td>\n",
       "      <td>0.229327</td>\n",
       "    </tr>\n",
       "    <tr>\n",
       "      <th>ENSMUSG00000103922.2</th>\n",
       "      <td>34.002534</td>\n",
       "      <td>46.447811</td>\n",
       "      <td>24.528506</td>\n",
       "      <td>32.887731</td>\n",
       "      <td>6.231771</td>\n",
       "      <td>9.973871</td>\n",
       "      <td>0.732059</td>\n",
       "      <td>0.837743</td>\n",
       "    </tr>\n",
       "  </tbody>\n",
       "</table>\n",
       "</div>"
      ],
      "text/plain": [
       "                       CLIP-35L33G.bam  RNA-control.bam  RNA-siLin28a.bam  \\\n",
       "Geneid                                                                      \n",
       "ENSMUSG00000102343.2          9.756596        11.878639         42.787984   \n",
       "ENSMUSG00000025902.14         0.249740         0.109526          0.472667   \n",
       "ENSMUSG00000102269.2          0.531265        12.756331          2.639414   \n",
       "ENSMUSG00000098104.2          3.918488        22.399719          4.986799   \n",
       "ENSMUSG00000103922.2         34.002534        46.447811         24.528506   \n",
       "\n",
       "                       RNA-siLuc.bam  RPF-siLin28a.bam  RPF-siLuc.bam  \\\n",
       "Geneid                                                                  \n",
       "ENSMUSG00000102343.2       40.466618          0.116285       0.208447   \n",
       "ENSMUSG00000025902.14       0.368367          0.066477       0.089372   \n",
       "ENSMUSG00000102269.2        1.292968          0.106060       0.427766   \n",
       "ENSMUSG00000098104.2        3.587447          0.215801       0.676957   \n",
       "ENSMUSG00000103922.2       32.887731          6.231771       9.973871   \n",
       "\n",
       "                       clip_enrichment  rden_change  \n",
       "Geneid                                               \n",
       "ENSMUSG00000102343.2          0.821356     0.527600  \n",
       "ENSMUSG00000025902.14         2.280183     0.579688  \n",
       "ENSMUSG00000102269.2          0.041647     0.121458  \n",
       "ENSMUSG00000098104.2          0.174935     0.229327  \n",
       "ENSMUSG00000103922.2          0.732059     0.837743  "
      ]
     },
     "execution_count": 33,
     "metadata": {},
     "output_type": "execute_result"
    }
   ],
   "source": [
    "data = pd.read_csv('featureCount_res_TPM_ClipEnrich_RdenChange.tsv', sep='\\t', index_col=0) #2\n",
    "data.head()"
   ]
  },
  {
   "cell_type": "code",
   "execution_count": 32,
   "metadata": {},
   "outputs": [
    {
     "data": {
      "text/plain": [
       "['ENSMUSG00000102343',\n",
       " 'ENSMUSG00000025902',\n",
       " 'ENSMUSG00000102269',\n",
       " 'ENSMUSG00000098104',\n",
       " 'ENSMUSG00000103922']"
      ]
     },
     "execution_count": 32,
     "metadata": {},
     "output_type": "execute_result"
    }
   ],
   "source": [
    "# #  수업중 실습 코드  : GO term 대응 위해 biomart 사용하는 부분만 사용 \n",
    "# data = data.index.to_series().str.split('.').str.get(0).tolist() #6\n",
    "# data[:5]\n",
    " "
   ]
  },
  {
   "cell_type": "code",
   "execution_count": 34,
   "metadata": {},
   "outputs": [],
   "source": [
    "import pandas as pd\n",
    "\n",
    "# starting point: your DataFrame ‘data’, whose index are \"ENSMUSG000000…\"\n",
    "# strip off the version suffix and build a new Series in one go:\n",
    "ids = data.index.to_series().str.split('.').str[0]\n",
    "\n",
    "# convert to a one-column DataFrame (gives you column header too):\n",
    "df_ids = ids.to_frame(name='ensembl_gene_id')\n",
    "\n",
    "# write that out, no need for \"col_index\":\n",
    "df_ids.to_csv(\"ALL-16K-Ids.tsv\", sep=\"\\t\", index=False)\n"
   ]
  },
  {
   "cell_type": "code",
   "execution_count": 23,
   "metadata": {},
   "outputs": [
    {
     "data": {
      "text/plain": [
       "16201"
      ]
     },
     "execution_count": 23,
     "metadata": {},
     "output_type": "execute_result"
    }
   ],
   "source": [
    "len(data)"
   ]
  },
  {
   "cell_type": "code",
   "execution_count": 42,
   "metadata": {},
   "outputs": [],
   "source": [
    "# # 수업중 실습 코드(13주차) 일부 활용: GO term 대응 위해 gseapy.biomart 활용하는 파트 변형하여 사용 \n",
    "\n",
    "\n",
    "data = pd.read_csv('ALL-16K-Ids.tsv', sep='\\t', index_col=0) #2"
   ]
  },
  {
   "cell_type": "code",
   "execution_count": 52,
   "metadata": {},
   "outputs": [
    {
     "name": "stdout",
     "output_type": "stream",
     "text": [
      "Loaded 16202 IDs (first 5): ['ensembl_gene_id', 'ENSMUSG00000102343', 'ENSMUSG00000025902', 'ENSMUSG00000102269', 'ENSMUSG00000098104']\n",
      "Total rows (gene–GO pairs): 218244\n",
      "      ensembl_gene_id external_gene_name       go_id      namespace_1003\n",
      "0  ENSMUSG00000001138              Cnnm3  GO:0010960  biological_process\n",
      "1  ENSMUSG00000001138              Cnnm3  GO:0005886  cellular_component\n",
      "2  ENSMUSG00000001138              Cnnm3  GO:0006811  biological_process\n",
      "4  ENSMUSG00000001143             Lman2l  GO:0016020  cellular_component\n",
      "5  ENSMUSG00000001143             Lman2l  GO:0030246  molecular_function\n"
     ]
    }
   ],
   "source": [
    "import pandas as pd\n",
    "import gseapy as gp\n",
    "\n",
    "# ─── Helper: simple batching ────────────────────────────────────────────────────\n",
    "def batched(iterable, n):\n",
    "    items = []\n",
    "    for item in iterable:\n",
    "        items.append(item)\n",
    "        if len(items) == n:\n",
    "            yield items\n",
    "            items = []\n",
    "    if items:\n",
    "        yield items\n",
    "\n",
    "# ─── Load your 16 K IDs robustly ───────────────────────────────────────────────\n",
    "def load_ensembl_ids(path):\n",
    "    # Try reading with no index_col first\n",
    "    df = pd.read_csv(path, sep='\\t', header=None)\n",
    "    # Assume the first column is your Ensembl IDs\n",
    "    ids = df.iloc[:, 0].astype(str).tolist()\n",
    "    print(f\"Loaded {len(ids)} IDs (first 5):\", ids[:5])\n",
    "    return ids\n",
    "\n",
    "ensembl_ids = load_ensembl_ids('ALL-16K-Ids.tsv')\n",
    "\n",
    "# ─── Set up Biomart ────────────────────────────────────────────────────────────\n",
    "bm = gp.biomart.Biomart()  \n",
    "DATASET = 'mmusculus_gene_ensembl'\n",
    "\n",
    "# ─── Query in batches ──────────────────────────────────────────────────────────\n",
    "results = []\n",
    "BATCH_SIZE = 200\n",
    "\n",
    "for batch in batched(ensembl_ids, BATCH_SIZE):\n",
    "    queries = {'ensembl_gene_id': batch}\n",
    "    df_batch = bm.query(\n",
    "        dataset=DATASET,\n",
    "        attributes=[\n",
    "            'ensembl_gene_id',     # input ID\n",
    "            'external_gene_name',  # mouse symbol\n",
    "            'go_id',                # GO term ID\n",
    "            # 'go_domain'                # GO domain \n",
    "            'namespace_1003'       # GO domain/namespace\n",
    "        ],\n",
    "        filters=queries\n",
    "    )\n",
    "    if not df_batch.empty:\n",
    "        results.append(df_batch)\n",
    "\n",
    "# ─── Combine & clean ───────────────────────────────────────────────────────────\n",
    "if not results:\n",
    "    raise RuntimeError(\"No GO annotations retrieved. Check your IDs or the dataset/filter names.\")\n",
    "\n",
    "df_all = pd.concat(results, ignore_index=True)\n",
    "df_all = df_all.dropna(subset=['go_id'])  # drop genes with no GO\n",
    "\n",
    "# ─── Inspect & save ───────────────────────────────────────────────────────────\n",
    "print(\"Total rows (gene–GO pairs):\", len(df_all))\n",
    "print(df_all.head())\n",
    "\n",
    "df_all.to_csv('mouse_16K_GO_mappings_final.tsv', sep='\\t', index=False)\n"
   ]
  },
  {
   "cell_type": "code",
   "execution_count": null,
   "metadata": {},
   "outputs": [],
   "source": [
    "# biomart 결과 csv \n",
    "\n",
    "# mouse_16K_GO_mappings.tsv\n",
    "mouse_16K_GO_mappings_final.tsv\n",
    "\n",
    "grep \"biological_process\" mouse_16K_GO_mappings_final.tsv > mouse_16K_GO_mappings_BP.tsv  # 95846"
   ]
  },
  {
   "cell_type": "code",
   "execution_count": null,
   "metadata": {},
   "outputs": [],
   "source": [
    "# 이제 BP-slim 대응시키기 "
   ]
  },
  {
   "cell_type": "code",
   "execution_count": null,
   "metadata": {},
   "outputs": [],
   "source": [
    "#\n",
    "awk -F'\\t' -v OFS='\\t' '\n",
    "  BEGIN {\n",
    "    # GAF 2.2 header\n",
    "    print \"!gaf-version: 2.2\"\n",
    "  }\n",
    "  {\n",
    "    # 1: DB          -> hyphen\n",
    "    # 2: DB Object ID -> $1\n",
    "    # 3: DB Object Symbol         -> hyphen\n",
    "    # 4: Qualifier                -> hyphen\n",
    "    # 5: GO ID                     -> $2\n",
    "    # 6: DB:Reference             -> hyphen\n",
    "    # 7: Evidence Code            -> hyphen\n",
    "    # 8: With/From                -> hyphen\n",
    "    # 9: Aspect                   -> BP\n",
    "    # 10: DB Object Name          -> hyphen\n",
    "    # 11: DB Object Synonym       -> hyphen\n",
    "    # 12: DB Object Type          -> hyphen\n",
    "    # 13: Taxon                   -> hyphen\n",
    "    # 14: Date                    -> hyphen\n",
    "    # 15: Assigned By             -> hyphen\n",
    "    # 16: Annotation Extension    -> hyphen\n",
    "    # 17: Gene Product Form ID    -> hyphen\n",
    "    print \"-\", \n",
    "          $1,\n",
    "          \"-\", \n",
    "          \"-\", \n",
    "          $3,\n",
    "          \"-\", \n",
    "          \"-\", \n",
    "          \"-\", \n",
    "          \"BP\", \n",
    "          \"-\", \n",
    "          \"-\", \n",
    "          \"-\", \n",
    "          \"taxon:10090\", \n",
    "          \"-\", \n",
    "          \"-\", \n",
    "          \"-\", \n",
    "          \"-\"\n",
    "  }\n",
    "' mouse_16K_GO_mappings_BP.tsv > mouse_16K_GO_mappings_BP.gaf\n"
   ]
  },
  {
   "cell_type": "code",
   "execution_count": null,
   "metadata": {},
   "outputs": [],
   "source": [
    "# install owltools"
   ]
  },
  {
   "cell_type": "code",
   "execution_count": null,
   "metadata": {},
   "outputs": [],
   "source": [
    "# wget https://current.geneontology.org/ontology/subsets/goslim_mouse.obo\n",
    "\n",
    "\n",
    "\n",
    "cd owltools/\n",
    "\n",
    "awk '\n",
    "  BEGIN { inTerm = 0; id = \"\" }\n",
    "  /^\\[Term\\]/   { inTerm = 1; id = \"\"; next }\n",
    "  /^$/          { inTerm = 0; next }\n",
    "  inTerm && /^id: GO/ {\n",
    "    id = $2\n",
    "  }\n",
    "  inTerm && /^namespace: biological_process/ {\n",
    "    if (id) print id\n",
    "    id = \"\"\n",
    "  }\n",
    "' goslim_mouse.obo > bp_slim_ids.txt\n",
    "\n",
    "/fast/yewon/colab-biolab/owltools/bp_slim_ids.txt"
   ]
  },
  {
   "cell_type": "code",
   "execution_count": null,
   "metadata": {},
   "outputs": [],
   "source": [
    "# map GO slim (BP terms)\n",
    "\n",
    "# didin't use this\n",
    "/fast/yewon/colab-biolab/owltools/owltools /fast/yewon/colab-biolab/owltools/go.obo --gaf /fast/yewon/colab-biolab/mouse_16K_GO_mappings_BP.gaf --map2slim --idfile /fast/yewon/colab-biolab/owltools/bp_slim_ids.txt --write-gaf /fast/yewon/colab-biolab/mouse_BP-GOslim.gaf\n",
    "\n",
    "#result \n",
    "/fast/yewon/colab-biolab/mouse_BP-GOslim.gaf\n",
    "\n",
    "# Number of annotations rewritten: 2361\n"
   ]
  },
  {
   "cell_type": "code",
   "execution_count": null,
   "metadata": {},
   "outputs": [],
   "source": [
    " \n",
    "awk -F'\\t' -v OFS='\\t' '{ sub(/^-:/,\"\",$2); print }'  /fast/yewon/colab-biolab/mouse_BP-GOslim.gaf > temp.tsv\n",
    "mv temp.tsv /fast/yewon/colab-biolab/mouse_BP-GOslim.gaf\n",
    " \n",
    "# cd owltools\n",
    "f1=\"/fast/yewon/colab-biolab/mouse_BP-GOslim.gaf\"\n",
    "f2=\"/fast/yewon/colab-biolab/mouse_16K_GO_mappings_BP.gaf\"  # original input\n",
    "\n",
    "awk -F\"\\t\" -v OFS=\"\\t\" 'NR==FNR {data[$2]=$5;next;}($2 in data){print $2, $5, data[$2]}' $f1 $f2 > /fast/yewon/colab-biolab/mouse_ALL_BP-ID_GO_GoSlim.tsv  # 93242 \n"
   ]
  },
  {
   "cell_type": "code",
   "execution_count": null,
   "metadata": {},
   "outputs": [],
   "source": [
    "\"/fast/yewon/colab-biolab/mouse_ALL_BP-ID_GO_GoSlim.tsv\" # 10812 엔트리 \n",
    "\n",
    "\n",
    "# 여기에서 BP term 만 골라내기  \n",
    "\n",
    "\n",
    "# awk '{print $1\"\\t\"$3}' $myf | sort | uniq > temp-ID_GOslim.tsv\n",
    "\n",
    "# awk '{print $1}' temp-ID_GOslim.tsv | sort | uniq | wc -l \n",
    "# # 10812\n",
    "\n",
    "\n",
    "bp=\"/fast/yewon/colab-biolab/owltools/bp_slim_ids.txt\"  # 이게 문제인거같아ㅏㅏ \n",
    "myf=\"/fast/yewon/colab-biolab/mouse_ALL_BP-ID_GO_GoSlim.tsv\"\n",
    "awk -F\"\\t\" -v OFS=\"\\t\" 'NR==FNR{data[$1];next;} ($3 in data)' $bp $myf > /fast/yewon/colab-biolab/mouse_ALL_BP-ID_GO_GoSlim-BP.tsv  # 10317  # 거의 큰 차이 안나지만 이거로하기      "
   ]
  },
  {
   "cell_type": "code",
   "execution_count": null,
   "metadata": {},
   "outputs": [],
   "source": [
    "awk -F\"\\t\" -v OFS=\"\\t\" '{print $1\"\\t\"$3}' mouse_ALL_BP-ID_GO_GoSlim-BP.tsv | sort | uniq > mouse_ALL_BP-ID_GoSlim-BP.tsv #10780\n",
    "\n",
    "\n",
    "awk -F\"\\t\" -v OFS=\"\\t\" 'NR==FNR{data[$2]=$1;next} ()'\n",
    "featureCount_with_log2.tsv "
   ]
  },
  {
   "cell_type": "code",
   "execution_count": null,
   "metadata": {},
   "outputs": [],
   "source": [
    "# concat \n",
    "awk -F'\\t' '\n",
    "  BEGIN { OFS=FS }\n",
    "  {\n",
    "    gene = $1\n",
    "    term = $2         # <-- use the GoSlim column here\n",
    "    if (term != \"\") {\n",
    "      key = gene \"|\" term\n",
    "      if (!seen[key]++) {\n",
    "        if (out[gene] == \"\")\n",
    "          out[gene] = term\n",
    "        else\n",
    "          out[gene] = out[gene] \";\" term\n",
    "      }\n",
    "    }\n",
    "  }\n",
    "  END {\n",
    "    for (g in out)\n",
    "      print g, out[g]\n",
    "  }\n",
    "' /fast/yewon/colab-biolab/mouse_ALL_BP-ID_GoSlim-BP.tsv  \\\n",
    "  > /fast/yewon/colab-biolab/mouse_ALL_BP-ID_GoSlim-BP-concat.tsv\n"
   ]
  },
  {
   "cell_type": "code",
   "execution_count": 1,
   "metadata": {},
   "outputs": [
    {
     "ename": "NameError",
     "evalue": "name 'pd' is not defined",
     "output_type": "error",
     "traceback": [
      "\u001b[0;31m---------------------------------------------------------------------------\u001b[0m",
      "\u001b[0;31mNameError\u001b[0m                                 Traceback (most recent call last)",
      "Cell \u001b[0;32mIn[1], line 1\u001b[0m\n\u001b[0;32m----> 1\u001b[0m data \u001b[38;5;241m=\u001b[39m \u001b[43mpd\u001b[49m\u001b[38;5;241m.\u001b[39mread_csv(\u001b[38;5;124m'\u001b[39m\u001b[38;5;124mfeatureCount_res_TPM_ClipEnrich_RdenChange.tsv\u001b[39m\u001b[38;5;124m'\u001b[39m, sep\u001b[38;5;241m=\u001b[39m\u001b[38;5;124m'\u001b[39m\u001b[38;5;130;01m\\t\u001b[39;00m\u001b[38;5;124m'\u001b[39m, index_col\u001b[38;5;241m=\u001b[39m\u001b[38;5;241m0\u001b[39m) \n\u001b[1;32m      2\u001b[0m \u001b[38;5;66;03m# Geneid  CLIP-35L33G.bam RNA-control.bam RNA-siLin28a.bam        RNA-siLuc.bam   RPF-siLin28a.bam        RPF-siLuc.bam   clip_enrichment rden_change\u001b[39;00m\n\u001b[1;32m      3\u001b[0m \n\u001b[1;32m      4\u001b[0m \u001b[38;5;66;03m# output should be : \u001b[39;00m\n\u001b[1;32m      5\u001b[0m \u001b[38;5;66;03m# Geneid  CLIP-35L33G.bam RNA-control.bam RNA-siLin28a.bam        RNA-siLuc.bam   RPF-siLin28a.bam        RPF-siLuc.bam   clip_enrichment rden_change   log2_clip_enrichment        log2_rden_change\u001b[39;00m\n\u001b[1;32m      7\u001b[0m \u001b[38;5;28;01mimport\u001b[39;00m \u001b[38;5;21;01mpandas\u001b[39;00m \u001b[38;5;28;01mas\u001b[39;00m \u001b[38;5;21;01mpd\u001b[39;00m\n",
      "\u001b[0;31mNameError\u001b[0m: name 'pd' is not defined"
     ]
    }
   ],
   "source": [
    "data = pd.read_csv('featureCount_res_TPM_ClipEnrich_RdenChange.tsv', sep='\\t', index_col=0) \n",
    "# Geneid  CLIP-35L33G.bam RNA-control.bam RNA-siLin28a.bam        RNA-siLuc.bam   RPF-siLin28a.bam        RPF-siLuc.bam   clip_enrichment rden_change\n",
    "\n",
    "# output should be : \n",
    "# Geneid  CLIP-35L33G.bam RNA-control.bam RNA-siLin28a.bam        RNA-siLuc.bam   RPF-siLin28a.bam        RPF-siLuc.bam   clip_enrichment rden_change   log2_clip_enrichment        log2_rden_change\n",
    "\n",
    "import pandas as pd\n",
    "import numpy as np\n",
    "\n",
    "# Add log2-transformed columns\n",
    "data['log2_clip_enrichment'] = np.log2(data['clip_enrichment'].replace(0, np.nan))\n",
    "data['log2_rden_change'] = np.log2(data['rden_change'].replace(0, np.nan))\n",
    "\n",
    "# (Optional) Save to file\n",
    "data.to_csv('featureCount_with_log2.tsv', sep='\\t')\n"
   ]
  },
  {
   "cell_type": "code",
   "execution_count": null,
   "metadata": {},
   "outputs": [],
   "source": [
    "awk -F\"\\t\" -v OFS=\"\\t\" '{ split($1, a, \".\"); $1 = a[1]; print }' featureCount_with_log2.tsv > temp.tsv\n",
    "mv temp.tsv featureCount_with_log2.tsv"
   ]
  },
  {
   "cell_type": "code",
   "execution_count": 28,
   "metadata": {},
   "outputs": [],
   "source": [
    "# Define input files\n",
    "go_terms_file=\"/fast/yewon/colab-biolab/mouse_ALL_BP-ID_GoSlim-BP-concat.tsv\"\n",
    "data_file=\"featureCount_with_log2.tsv\"\n",
    "output_file=\"mouse_ALL_BP-ID_allvals_logClip_logRdenFC_GOconcat.tsv\"  #\n",
    "\n",
    "# Extract relevant columns by joining on gene ID\n",
    "awk -F\"\\t\" -v OFS=\"\\t\" '\n",
    "  NR==FNR {\n",
    "    if ($2 != \"\") go_func[$1] = $2\n",
    "    next\n",
    "  }\n",
    "  ($1 in go_func) {\n",
    "    print $0, go_func[$1]\n",
    "  }\n",
    "' \"$go_terms_file\" \"$data_file\" > \"$output_file\" # 10317\n",
    "# head $output_filec\n"
   ]
  },
  {
   "cell_type": "code",
   "execution_count": 55,
   "metadata": {},
   "outputs": [
    {
     "ename": "SyntaxError",
     "evalue": "unterminated string literal (detected at line 7) (3339049799.py, line 7)",
     "output_type": "error",
     "traceback": [
      "\u001b[0;36m  Cell \u001b[0;32mIn[55], line 7\u001b[0;36m\u001b[0m\n\u001b[0;31m    awk -F\"\\t\" -v OFS=\"\\t\" '\u001b[0m\n\u001b[0m                           ^\u001b[0m\n\u001b[0;31mSyntaxError\u001b[0m\u001b[0;31m:\u001b[0m unterminated string literal (detected at line 7)\n"
     ]
    }
   ],
   "source": [
    "# Define input files\n",
    "go_terms_file=\"/fast/yewon/colab-biolab/mouse_ALL_BP-ID_GoSlim-BP-concat.tsv\"\n",
    "data_file=\"featureCount_with_log2.tsv\"\n",
    "output_file=\"mouse_ALL_BP-ID_logClip_logRdenFC_GOconcat.tsv\"  # all_integral_membrane_mf-ID_logClip_logRdenFC_GOconcat.tsv\" \n",
    "\n",
    "# Extract relevant columns by joining on gene ID\n",
    "awk -F\"\\t\" -v OFS=\"\\t\" '\n",
    "  NR==FNR {\n",
    "    if ($2 != \"\") go_func[$1] = $2\n",
    "    next\n",
    "  }\n",
    "  ($1 in go_func) {\n",
    "    print $1, $8, $9, go_func[$1]\n",
    "  }\n",
    "' \"$go_terms_file\" \"$data_file\" > \"$output_file\" # 10317\n",
    "\n"
   ]
  },
  {
   "cell_type": "code",
   "execution_count": null,
   "metadata": {},
   "outputs": [],
   "source": [
    "awk -F\"\\t\" '{\n",
    "  n = split($4, terms, \";\")\n",
    "  for (i = 1; i <= n; i++) {\n",
    "    print $1 \"\\t\" $2 \"\\t\" $3 \"\\t\" terms[i]\n",
    "  }\n",
    "}' mouse_ALL_BP-ID_logClip_logRdenFC_GOconcat.tsv \\\n",
    "> mouse_ALL_BP-ID_logClip_logRdenFC_GOconcat_exploded.tsv\n"
   ]
  },
  {
   "cell_type": "code",
   "execution_count": null,
   "metadata": {},
   "outputs": [
    {
     "ename": "",
     "evalue": "",
     "output_type": "error",
     "traceback": [
      "\u001b[1;31mFailed to start the Kernel. \n",
      "\u001b[1;31mThe kernel died. Error: ... View Jupyter <a href='command:jupyter.viewOutput'>log</a> for further details."
     ]
    }
   ],
   "source": [
    "df = pd.read_csv(\n",
    "    'mouse_ALL_BP-ID_logClip_logRdenFC_GOconcat_exploded.tsv',\n",
    "    sep='\\t', header=None,\n",
    "    names=['gene','scoreA','scoreB','goslim']\n",
    ")\n"
   ]
  },
  {
   "cell_type": "code",
   "execution_count": null,
   "metadata": {},
   "outputs": [],
   "source": [
    "import pandas as pd\n",
    "import numpy as np\n",
    "from scipy.stats import mannwhitneyu\n",
    "from statsmodels.stats.multitest import multipletests\n",
    "import matplotlib.pyplot as plt\n",
    "\n",
    "# ─── Load Preprocessed Data ───────────────────────────────────────────────────\n",
    "df = pd.read_csv(\n",
    "    'mouse_ALL_BP-ID_logClip_logRdenFC_GOconcat_exploded.tsv',\n",
    "    sep='\\t', header=None,\n",
    "    names=['gene', 'scoreA', 'scoreB', 'goslim']\n",
    ")\n",
    "\n",
    "# ─── Group by GO term ─────────────────────────────────────────────────────────\n",
    "grouped = (\n",
    "    df.groupby('goslim')\n",
    "      .agg(\n",
    "         gene_count=('gene', 'nunique'),\n",
    "         scoreA_mean=('scoreA', 'mean'),\n",
    "         scoreB_mean=('scoreB', 'mean')\n",
    "      )\n",
    "      .reset_index()\n",
    ")\n",
    "\n",
    "# ─── Mann–Whitney U test (scoreA in vs out per GO term) ───────────────────────\n",
    "gene_to_scoreA = df.set_index('gene')['scoreA'].to_dict()\n",
    "all_genes = set(gene_to_scoreA)\n",
    "\n",
    "pvals = []\n",
    "for term in grouped['goslim']:\n",
    "    genes_in = set(df[df['goslim'] == term]['gene'])\n",
    "    genes_out = all_genes - genes_in\n",
    "\n",
    "    s_in = [gene_to_scoreA[g] for g in genes_in if g in gene_to_scoreA]\n",
    "    s_out = [gene_to_scoreA[g] for g in genes_out if g in gene_to_scoreA]\n",
    "\n",
    "    if len(s_in) >= 3 and len(s_out) >= 3:\n",
    "        _, p = mannwhitneyu(s_in, s_out, alternative='two-sided')\n",
    "    else:\n",
    "        p = np.nan\n",
    "    pvals.append(p)\n",
    "\n",
    "grouped['pA']   = pvals\n",
    "grouped['fdrA'] = multipletests(grouped['pA'].fillna(1), method='fdr_bh')[1]\n",
    "grouped['sigA'] = -np.log10(grouped['fdrA'].replace(0, np.nan))\n",
    "\n",
    "# ─── Plotting Bubble Chart ────────────────────────────────────────────────────\n",
    "fig, ax = plt.subplots(figsize=(8, 6))\n",
    "scatter = ax.scatter(\n",
    "    grouped['scoreA_mean'],\n",
    "    grouped['scoreB_mean'],\n",
    "    s=grouped['gene_count'] * 3,\n",
    "    c=grouped['sigA'],\n",
    "    cmap='YlOrBr',\n",
    "    edgecolor='black'\n",
    ")\n",
    "\n",
    "# Add grid lines every 0.25\n",
    "x_min, x_max = grouped['scoreA_mean'].min(), grouped['scoreA_mean'].max()\n",
    "y_min, y_max = grouped['scoreB_mean'].min(), grouped['scoreB_mean'].max()\n",
    "ax.set_xticks(np.arange(np.floor(x_min), np.ceil(x_max) + 0.25, 0.25))\n",
    "ax.set_yticks(np.arange(np.floor(y_min), np.ceil(y_max) + 0.25, 0.25))\n",
    "ax.grid(True, which='both', linestyle='--', linewidth=0.5, alpha=0.7)\n",
    "\n",
    "# Reference lines at 0\n",
    "ax.axhline(0, color='gray', linestyle='--', linewidth=0.8)\n",
    "ax.axvline(0, color='gray', linestyle='--', linewidth=0.8)\n",
    "\n",
    "# Colorbar\n",
    "cbar = fig.colorbar(scatter, ax=ax, pad=0.02)\n",
    "cbar.set_label(r'$-\\log_{10}(\\mathrm{FDR})$', rotation=270, labelpad=15)\n",
    "\n",
    "# Axis labels and title\n",
    "ax.set_xlabel(r'Mean $\\log_{2}$(Clip Enrichment)', fontsize=11)\n",
    "ax.set_ylabel(r'Mean $\\log_{2}$(Rden Fold Change)', fontsize=11)\n",
    "ax.set_title('GO-Slim Term Enrichment\\n(size = # genes, color = term confidence)', fontsize=12)\n",
    "\n",
    "plt.tight_layout()\n",
    "plt.savefig('goslim_bubble_plot.svg')\n",
    "plt.show()\n"
   ]
  }
 ],
 "metadata": {
  "kernelspec": {
   "display_name": "base",
   "language": "python",
   "name": "python3"
  },
  "language_info": {
   "codemirror_mode": {
    "name": "ipython",
    "version": 3
   },
   "file_extension": ".py",
   "mimetype": "text/x-python",
   "name": "python",
   "nbconvert_exporter": "python",
   "pygments_lexer": "ipython3",
   "version": "3.10.16"
  }
 },
 "nbformat": 4,
 "nbformat_minor": 2
}
